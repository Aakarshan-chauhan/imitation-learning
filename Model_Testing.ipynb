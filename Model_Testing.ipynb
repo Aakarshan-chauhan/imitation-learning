{
 "cells": [
  {
   "cell_type": "code",
   "execution_count": 1,
   "id": "ab225406",
   "metadata": {},
   "outputs": [],
   "source": [
    "import tensorflow as tf\n",
    "import numpy as np\n",
    "import tensorflow.keras.models as models\n",
    "import tensorflow.keras.layers as layers\n",
    "import pandas as pd\n",
    "import matplotlib.pyplot as plt"
   ]
  },
  {
   "cell_type": "code",
   "execution_count": 2,
   "id": "aed1eb90",
   "metadata": {},
   "outputs": [],
   "source": [
    "model = tf.saved_model.load(r\"Path to the trained Model\")"
   ]
  },
  {
   "cell_type": "code",
   "execution_count": 3,
   "id": "345600bb",
   "metadata": {},
   "outputs": [],
   "source": [
    "from gym_unity.envs import UnityToGymWrapper"
   ]
  },
  {
   "cell_type": "code",
   "execution_count": 4,
   "id": "7f59c021",
   "metadata": {},
   "outputs": [],
   "source": [
    "from mlagents_envs.environment import UnityEnvironment"
   ]
  },
  {
   "cell_type": "code",
   "execution_count": 5,
   "id": "a46dd136",
   "metadata": {},
   "outputs": [
    {
     "name": "stdout",
     "output_type": "stream",
     "text": [
      "[INFO] Connected to Unity environment with package version 2.0.0-exp.1 and communication version 1.5.0\n",
      "[INFO] Connected new brain: CarAgent?team=0\n"
     ]
    },
    {
     "name": "stderr",
     "output_type": "stream",
     "text": [
      "D:\\Users\\Aakarshan\\miniconda3\\envs\\tf\\lib\\site-packages\\gym\\logger.py:30: UserWarning: \u001b[33mWARN: Box bound precision lowered by casting to float32\u001b[0m\n",
      "  warnings.warn(colorize('%s: %s'%('WARN', msg % args), 'yellow'))\n"
     ]
    }
   ],
   "source": [
    "env_path = \"Path to the environment\"\n",
    "env=  UnityToGymWrapper(UnityEnvironment(env_path), allow_multiple_obs=True)"
   ]
  },
  {
   "cell_type": "code",
   "execution_count": 7,
   "id": "e639c708",
   "metadata": {},
   "outputs": [],
   "source": [
    "imgs, vel = env.reset()\n",
    "done = False\n",
    "while not done:\n",
    "    vel = np.array([vel])\n",
    "    imgs = np.array([imgs])\n",
    "\n",
    "    a = model((imgs, vel)).numpy()[0]       \n",
    "    (imgs, vel), r, done, info = env.step(a)\n",
    "       \n",
    "env.close()"
   ]
  },
  {
   "cell_type": "code",
   "execution_count": null,
   "id": "fa682aca",
   "metadata": {},
   "outputs": [],
   "source": []
  },
  {
   "cell_type": "code",
   "execution_count": null,
   "id": "ca572f3e",
   "metadata": {},
   "outputs": [],
   "source": []
  }
 ],
 "metadata": {
  "kernelspec": {
   "display_name": "tf",
   "language": "python",
   "name": "tf"
  },
  "language_info": {
   "codemirror_mode": {
    "name": "ipython",
    "version": 3
   },
   "file_extension": ".py",
   "mimetype": "text/x-python",
   "name": "python",
   "nbconvert_exporter": "python",
   "pygments_lexer": "ipython3",
   "version": "3.9.5"
  }
 },
 "nbformat": 4,
 "nbformat_minor": 5
}