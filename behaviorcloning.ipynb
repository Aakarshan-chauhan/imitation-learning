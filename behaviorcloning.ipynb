{
 "cells": [
  {
   "cell_type": "code",
   "execution_count": 1,
   "id": "following-blast",
   "metadata": {
    "execution": {
     "iopub.execute_input": "2021-07-05T05:34:55.504066Z",
     "iopub.status.busy": "2021-07-05T05:34:55.503580Z",
     "iopub.status.idle": "2021-07-05T05:35:02.430875Z",
     "shell.execute_reply": "2021-07-05T05:35:02.429518Z",
     "shell.execute_reply.started": "2021-07-05T05:28:46.190333Z"
    },
    "papermill": {
     "duration": 6.946439,
     "end_time": "2021-07-05T05:35:02.431043",
     "exception": false,
     "start_time": "2021-07-05T05:34:55.484604",
     "status": "completed"
    },
    "tags": []
   },
   "outputs": [
    {
     "name": "stdout",
     "output_type": "stream",
     "text": [
      "Requirement already satisfied: tqdm in /opt/conda/lib/python3.7/site-packages (4.59.0)\r\n"
     ]
    }
   ],
   "source": [
    "!pip install tqdm"
   ]
  },
  {
   "cell_type": "code",
   "execution_count": 2,
   "id": "executed-sucking",
   "metadata": {
    "_cell_guid": "b1076dfc-b9ad-4769-8c92-a6c4dae69d19",
    "_uuid": "8f2839f25d086af736a60e9eeb907d3b93b6e0e5",
    "execution": {
     "iopub.execute_input": "2021-07-05T05:35:02.454289Z",
     "iopub.status.busy": "2021-07-05T05:35:02.453621Z",
     "iopub.status.idle": "2021-07-05T05:35:06.963949Z",
     "shell.execute_reply": "2021-07-05T05:35:06.963486Z",
     "shell.execute_reply.started": "2021-07-05T05:29:02.973388Z"
    },
    "papermill": {
     "duration": 4.523392,
     "end_time": "2021-07-05T05:35:06.964079",
     "exception": false,
     "start_time": "2021-07-05T05:35:02.440687",
     "status": "completed"
    },
    "tags": []
   },
   "outputs": [],
   "source": [
    "import tensorflow as tf\n",
    "import numpy as np\n",
    "import tensorflow.keras.layers as layers \n",
    "import tensorflow.keras.models as models\n",
    "import pandas as pd\n",
    "import matplotlib.pyplot as plt\n",
    "import tqdm"
   ]
  },
  {
   "cell_type": "code",
   "execution_count": 3,
   "id": "smoking-utility",
   "metadata": {
    "execution": {
     "iopub.execute_input": "2021-07-05T05:35:06.990033Z",
     "iopub.status.busy": "2021-07-05T05:35:06.989519Z",
     "iopub.status.idle": "2021-07-05T05:35:06.992809Z",
     "shell.execute_reply": "2021-07-05T05:35:06.993164Z",
     "shell.execute_reply.started": "2021-07-05T05:29:09.174678Z"
    },
    "papermill": {
     "duration": 0.019986,
     "end_time": "2021-07-05T05:35:06.993303",
     "exception": false,
     "start_time": "2021-07-05T05:35:06.973317",
     "status": "completed"
    },
    "tags": []
   },
   "outputs": [],
   "source": [
    "class Actor(models.Model):\n",
    "    def __init__(self):\n",
    "        super(Actor, self).__init__()\n",
    "        \n",
    "        self.cnn = models.Sequential([\n",
    "            layers.Conv2D(16, 5, activation='relu'),\n",
    "            layers.MaxPooling2D(),\n",
    "            layers.Conv2D(32, 3, activation='relu'),\n",
    "            layers.MaxPooling2D(),\n",
    "            layers.BatchNormalization(),\n",
    "            layers.Conv2D(32, 3, activation='relu'),\n",
    "            layers.MaxPooling2D(),\n",
    "            layers.Flatten()\n",
    "        ])\n",
    "        \n",
    "        self.concat = layers.Concatenate(axis=1)\n",
    "        \n",
    "        self.dense = models.Sequential([\n",
    "            layers.Dense(256, activation='relu'),\n",
    "            layers.Dense(256, activation='relu'),\n",
    "            layers.Dense(256, activation='relu'),\n",
    "            \n",
    "            layers.Dense(1, activation='tanh')\n",
    "        ])\n",
    "        \n",
    "    def call(self, inputs):\n",
    "        imgs, vels = inputs\n",
    "        imgsx = self.cnn(imgs)\n",
    "        x = self.concat([imgsx, vels])\n",
    "        x = self.dense(x)\n",
    "        return x\n"
   ]
  },
  {
   "cell_type": "code",
   "execution_count": 4,
   "id": "female-sword",
   "metadata": {
    "execution": {
     "iopub.execute_input": "2021-07-05T05:35:07.014265Z",
     "iopub.status.busy": "2021-07-05T05:35:07.013605Z",
     "iopub.status.idle": "2021-07-05T05:35:07.016326Z",
     "shell.execute_reply": "2021-07-05T05:35:07.015909Z",
     "shell.execute_reply.started": "2021-07-05T05:29:12.134837Z"
    },
    "papermill": {
     "duration": 0.01436,
     "end_time": "2021-07-05T05:35:07.016430",
     "exception": false,
     "start_time": "2021-07-05T05:35:07.002070",
     "status": "completed"
    },
    "tags": []
   },
   "outputs": [],
   "source": [
    "picPath = \"../input/simple-car-simulator-dataset/CarSIM/PIC/\"\n",
    "csvPath = \"../input/simple-car-simulator-dataset/CarSIM/Data.csv\""
   ]
  },
  {
   "cell_type": "code",
   "execution_count": 5,
   "id": "accompanied-excerpt",
   "metadata": {
    "execution": {
     "iopub.execute_input": "2021-07-05T05:35:07.045275Z",
     "iopub.status.busy": "2021-07-05T05:35:07.044766Z",
     "iopub.status.idle": "2021-07-05T05:35:07.071244Z",
     "shell.execute_reply": "2021-07-05T05:35:07.071727Z",
     "shell.execute_reply.started": "2021-07-05T05:29:12.990529Z"
    },
    "papermill": {
     "duration": 0.046524,
     "end_time": "2021-07-05T05:35:07.071849",
     "exception": false,
     "start_time": "2021-07-05T05:35:07.025325",
     "status": "completed"
    },
    "tags": []
   },
   "outputs": [
    {
     "data": {
      "text/html": [
       "<div>\n",
       "<style scoped>\n",
       "    .dataframe tbody tr th:only-of-type {\n",
       "        vertical-align: middle;\n",
       "    }\n",
       "\n",
       "    .dataframe tbody tr th {\n",
       "        vertical-align: top;\n",
       "    }\n",
       "\n",
       "    .dataframe thead th {\n",
       "        text-align: right;\n",
       "    }\n",
       "</style>\n",
       "<table border=\"1\" class=\"dataframe\">\n",
       "  <thead>\n",
       "    <tr style=\"text-align: right;\">\n",
       "      <th></th>\n",
       "      <th>PicID</th>\n",
       "      <th>Vertical</th>\n",
       "      <th>Horizontal</th>\n",
       "      <th>Velocity</th>\n",
       "    </tr>\n",
       "  </thead>\n",
       "  <tbody>\n",
       "    <tr>\n",
       "      <th>0</th>\n",
       "      <td>020721-010829-248-0</td>\n",
       "      <td>0</td>\n",
       "      <td>0</td>\n",
       "      <td>0.000000</td>\n",
       "    </tr>\n",
       "    <tr>\n",
       "      <th>1</th>\n",
       "      <td>020721-010829-781-1</td>\n",
       "      <td>0</td>\n",
       "      <td>0</td>\n",
       "      <td>0.548092</td>\n",
       "    </tr>\n",
       "    <tr>\n",
       "      <th>2</th>\n",
       "      <td>020721-010829-806-2</td>\n",
       "      <td>0</td>\n",
       "      <td>0</td>\n",
       "      <td>0.023570</td>\n",
       "    </tr>\n",
       "    <tr>\n",
       "      <th>3</th>\n",
       "      <td>020721-010829-934-3</td>\n",
       "      <td>0</td>\n",
       "      <td>0</td>\n",
       "      <td>0.022755</td>\n",
       "    </tr>\n",
       "    <tr>\n",
       "      <th>4</th>\n",
       "      <td>020721-010830-072-4</td>\n",
       "      <td>0</td>\n",
       "      <td>0</td>\n",
       "      <td>0.002016</td>\n",
       "    </tr>\n",
       "  </tbody>\n",
       "</table>\n",
       "</div>"
      ],
      "text/plain": [
       "                 PicID  Vertical  Horizontal  Velocity\n",
       "0  020721-010829-248-0         0           0  0.000000\n",
       "1  020721-010829-781-1         0           0  0.548092\n",
       "2  020721-010829-806-2         0           0  0.023570\n",
       "3  020721-010829-934-3         0           0  0.022755\n",
       "4  020721-010830-072-4         0           0  0.002016"
      ]
     },
     "execution_count": 5,
     "metadata": {},
     "output_type": "execute_result"
    }
   ],
   "source": [
    "data = pd.read_csv(csvPath)\n",
    "data.head()"
   ]
  },
  {
   "cell_type": "code",
   "execution_count": 6,
   "id": "therapeutic-poker",
   "metadata": {
    "execution": {
     "iopub.execute_input": "2021-07-05T05:35:07.096698Z",
     "iopub.status.busy": "2021-07-05T05:35:07.096083Z",
     "iopub.status.idle": "2021-07-05T05:35:21.855745Z",
     "shell.execute_reply": "2021-07-05T05:35:21.855284Z",
     "shell.execute_reply.started": "2021-07-05T05:29:13.594403Z"
    },
    "papermill": {
     "duration": 14.774691,
     "end_time": "2021-07-05T05:35:21.855869",
     "exception": false,
     "start_time": "2021-07-05T05:35:07.081178",
     "status": "completed"
    },
    "tags": []
   },
   "outputs": [
    {
     "name": "stderr",
     "output_type": "stream",
     "text": [
      "100%|██████████| 2050/2050 [00:14<00:00, 138.99it/s]\n"
     ]
    }
   ],
   "source": [
    "pics = np.empty((len(data), 256, 256, 3), dtype=np.float32)\n",
    "velocities = np.empty((len(data), 1), dtype=np.float32)\n",
    "controls = np.empty((len(data), 2), dtype=np.float32)\n",
    "for i in tqdm.tqdm(range(len(data))):\n",
    "    name = picPath+data['PicID'][i] + \".png\"\n",
    "    pics[i] = plt.imread(name)[:,:,:3]\n",
    "    velocities[i] = [data['Velocity'][i]]\n",
    "    controls[i] = (data['Vertical'][i], data['Horizontal'][i])\n",
    "    \n",
    "    "
   ]
  },
  {
   "cell_type": "code",
   "execution_count": 7,
   "id": "fifteen-trust",
   "metadata": {
    "execution": {
     "iopub.execute_input": "2021-07-05T05:35:21.949545Z",
     "iopub.status.busy": "2021-07-05T05:35:21.949026Z",
     "iopub.status.idle": "2021-07-05T05:35:23.902757Z",
     "shell.execute_reply": "2021-07-05T05:35:23.901858Z",
     "shell.execute_reply.started": "2021-07-05T05:29:28.069831Z"
    },
    "papermill": {
     "duration": 2.001736,
     "end_time": "2021-07-05T05:35:23.902903",
     "exception": false,
     "start_time": "2021-07-05T05:35:21.901167",
     "status": "completed"
    },
    "tags": []
   },
   "outputs": [],
   "source": [
    "model = Actor()"
   ]
  },
  {
   "cell_type": "code",
   "execution_count": 8,
   "id": "excellent-johns",
   "metadata": {
    "execution": {
     "iopub.execute_input": "2021-07-05T05:35:24.002507Z",
     "iopub.status.busy": "2021-07-05T05:35:24.001886Z",
     "iopub.status.idle": "2021-07-05T05:35:33.740417Z",
     "shell.execute_reply": "2021-07-05T05:35:33.739958Z",
     "shell.execute_reply.started": "2021-07-05T05:29:30.133046Z"
    },
    "papermill": {
     "duration": 9.792698,
     "end_time": "2021-07-05T05:35:33.740549",
     "exception": false,
     "start_time": "2021-07-05T05:35:23.947851",
     "status": "completed"
    },
    "tags": []
   },
   "outputs": [
    {
     "name": "stdout",
     "output_type": "stream",
     "text": [
      "65/65 [==============================] - 8s 62ms/step - loss: 0.5127\n"
     ]
    },
    {
     "data": {
      "text/plain": [
       "<tensorflow.python.keras.callbacks.History at 0x7efb12656390>"
      ]
     },
     "execution_count": 8,
     "metadata": {},
     "output_type": "execute_result"
    }
   ],
   "source": [
    "model.compile(optimizer='sgd', loss='mean_squared_error')\n",
    "model.fit((pics, velocities), controls, )"
   ]
  },
  {
   "cell_type": "code",
   "execution_count": 9,
   "id": "measured-clock",
   "metadata": {
    "execution": {
     "iopub.execute_input": "2021-07-05T05:35:33.869957Z",
     "iopub.status.busy": "2021-07-05T05:35:33.868952Z",
     "iopub.status.idle": "2021-07-05T05:36:34.855021Z",
     "shell.execute_reply": "2021-07-05T05:36:34.854532Z",
     "shell.execute_reply.started": "2021-07-05T05:29:40.443522Z"
    },
    "papermill": {
     "duration": 61.052399,
     "end_time": "2021-07-05T05:36:34.855151",
     "exception": false,
     "start_time": "2021-07-05T05:35:33.802752",
     "status": "completed"
    },
    "tags": []
   },
   "outputs": [
    {
     "name": "stdout",
     "output_type": "stream",
     "text": [
      "Epoch 1/15\n",
      "65/65 [==============================] - 4s 60ms/step - loss: 0.3856\n",
      "Epoch 2/15\n",
      "65/65 [==============================] - 4s 62ms/step - loss: 0.3674\n",
      "Epoch 3/15\n",
      "65/65 [==============================] - 4s 61ms/step - loss: 0.3639\n",
      "Epoch 4/15\n",
      "65/65 [==============================] - 4s 62ms/step - loss: 0.3524\n",
      "Epoch 5/15\n",
      "65/65 [==============================] - 4s 61ms/step - loss: 0.3474\n",
      "Epoch 6/15\n",
      "65/65 [==============================] - 4s 62ms/step - loss: 0.3404\n",
      "Epoch 7/15\n",
      "65/65 [==============================] - 4s 61ms/step - loss: 0.3357\n",
      "Epoch 8/15\n",
      "65/65 [==============================] - 4s 61ms/step - loss: 0.3305\n",
      "Epoch 9/15\n",
      "65/65 [==============================] - 4s 61ms/step - loss: 0.3279\n",
      "Epoch 10/15\n",
      "65/65 [==============================] - 4s 61ms/step - loss: 0.3231\n",
      "Epoch 11/15\n",
      "65/65 [==============================] - 4s 61ms/step - loss: 0.3229\n",
      "Epoch 12/15\n",
      "65/65 [==============================] - 4s 61ms/step - loss: 0.3231\n",
      "Epoch 13/15\n",
      "65/65 [==============================] - 4s 61ms/step - loss: 0.3161\n",
      "Epoch 14/15\n",
      "65/65 [==============================] - 4s 61ms/step - loss: 0.3214\n",
      "Epoch 15/15\n",
      "65/65 [==============================] - 4s 60ms/step - loss: 0.3131\n"
     ]
    },
    {
     "data": {
      "text/plain": [
       "<tensorflow.python.keras.callbacks.History at 0x7efb8f8bf110>"
      ]
     },
     "execution_count": 9,
     "metadata": {},
     "output_type": "execute_result"
    }
   ],
   "source": [
    "model.fit((pics, velocities), controls, epochs=15)"
   ]
  },
  {
   "cell_type": "code",
   "execution_count": 10,
   "id": "bound-saskatchewan",
   "metadata": {
    "execution": {
     "iopub.execute_input": "2021-07-05T05:36:35.483353Z",
     "iopub.status.busy": "2021-07-05T05:36:35.482761Z",
     "iopub.status.idle": "2021-07-05T05:36:37.328088Z",
     "shell.execute_reply": "2021-07-05T05:36:37.329193Z",
     "shell.execute_reply.started": "2021-07-05T05:32:35.474149Z"
    },
    "papermill": {
     "duration": 2.162622,
     "end_time": "2021-07-05T05:36:37.329536",
     "exception": false,
     "start_time": "2021-07-05T05:36:35.166914",
     "status": "completed"
    },
    "tags": []
   },
   "outputs": [],
   "source": [
    "model.save(\"my_model\")"
   ]
  },
  {
   "cell_type": "code",
   "execution_count": 11,
   "id": "occasional-engineer",
   "metadata": {
    "execution": {
     "iopub.execute_input": "2021-07-05T05:36:38.162876Z",
     "iopub.status.busy": "2021-07-05T05:36:38.162071Z",
     "iopub.status.idle": "2021-07-05T05:36:39.619522Z",
     "shell.execute_reply": "2021-07-05T05:36:39.619934Z",
     "shell.execute_reply.started": "2021-07-05T05:34:11.011958Z"
    },
    "papermill": {
     "duration": 1.777108,
     "end_time": "2021-07-05T05:36:39.620083",
     "exception": false,
     "start_time": "2021-07-05T05:36:37.842975",
     "status": "completed"
    },
    "tags": []
   },
   "outputs": [
    {
     "data": {
      "text/plain": [
       "'/kaggle/working/OUTPUT_NAME.zip'"
      ]
     },
     "execution_count": 11,
     "metadata": {},
     "output_type": "execute_result"
    }
   ],
   "source": [
    "import shutil\n",
    "shutil.make_archive('OUTPUT_NAME', 'zip', './my_model')"
   ]
  },
  {
   "cell_type": "code",
   "execution_count": null,
   "id": "artistic-seattle",
   "metadata": {
    "papermill": {
     "duration": 0.31292,
     "end_time": "2021-07-05T05:36:40.245239",
     "exception": false,
     "start_time": "2021-07-05T05:36:39.932319",
     "status": "completed"
    },
    "tags": []
   },
   "outputs": [],
   "source": []
  }
 ],
 "metadata": {
  "kernelspec": {
   "display_name": "Python 3",
   "language": "python",
   "name": "python3"
  },
  "language_info": {
   "codemirror_mode": {
    "name": "ipython",
    "version": 3
   },
   "file_extension": ".py",
   "mimetype": "text/x-python",
   "name": "python",
   "nbconvert_exporter": "python",
   "pygments_lexer": "ipython3",
   "version": "3.7.10"
  },
  "papermill": {
   "default_parameters": {},
   "duration": 113.711931,
   "end_time": "2021-07-05T05:36:42.669306",
   "environment_variables": {},
   "exception": null,
   "input_path": "__notebook__.ipynb",
   "output_path": "__notebook__.ipynb",
   "parameters": {},
   "start_time": "2021-07-05T05:34:48.957375",
   "version": "2.3.3"
  }
 },
 "nbformat": 4,
 "nbformat_minor": 5
}
