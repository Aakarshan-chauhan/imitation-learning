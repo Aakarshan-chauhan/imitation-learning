{
 "metadata": {
  "language_info": {
   "codemirror_mode": {
    "name": "ipython",
    "version": 3
   },
   "file_extension": ".py",
   "mimetype": "text/x-python",
   "name": "python",
   "nbconvert_exporter": "python",
   "pygments_lexer": "ipython3",
   "version": "3.7.9"
  },
  "orig_nbformat": 4,
  "kernelspec": {
   "name": "python3",
   "display_name": "Python 3.7.9 64-bit ('tfgpu': conda)"
  },
  "interpreter": {
   "hash": "e6b71a05429c2e20f8fe7c6acb9151d058f67d815eb397a292172b755e6020a1"
  }
 },
 "nbformat": 4,
 "nbformat_minor": 2,
 "cells": [
  {
   "cell_type": "code",
   "execution_count": 1,
   "metadata": {},
   "outputs": [],
   "source": [
    "import tensorflow as tf\n",
    "import numpy as np\n",
    "from tensorflow.keras.models import Sequential, Model\n",
    "from tensorflow.keras.layers import Conv2D, Dense, Flatten, MaxPooling2D, Dropout, Concatenate"
   ]
  },
  {
   "cell_type": "code",
   "execution_count": 2,
   "metadata": {},
   "outputs": [
    {
     "output_type": "execute_result",
     "data": {
      "text/plain": [
       "<tensorflow.python.training.tracking.util.CheckpointLoadStatus at 0x20827742e08>"
      ]
     },
     "metadata": {},
     "execution_count": 2
    }
   ],
   "source": [
    "class PolicyNetwork(Model):\n",
    "    def __init__(self):\n",
    "        super(PolicyNetwork, self).__init__()\n",
    "\n",
    "        self.cnn = Sequential([\n",
    "            Conv2D(12, 5, activation='relu'),\n",
    "            MaxPooling2D(3),\n",
    "            Conv2D(15, 3, activation='relu'),\n",
    "            MaxPooling2D(3),\n",
    "            Dropout(0.2),\n",
    "            Conv2D(25, 3, activation='relu'),\n",
    "            MaxPooling2D(3),\n",
    "            Flatten(),\n",
    "        ])\n",
    "        \n",
    "        self.concat = Concatenate(axis=1)\n",
    "        self.dense = Sequential([\n",
    "            Dense(64, activation='relu'),\n",
    "            Dropout(0.2),\n",
    "            Dense(64, activation='relu'),\n",
    "            Dense(2)\n",
    "        ])\n",
    "\n",
    "    def call(self, inps):\n",
    "        img, vel = inps\n",
    "        imgx = self.cnn(img)\n",
    "        x = self.concat([imgx, vel])\n",
    "        return self.dense(x)\n",
    "\n",
    "model = PolicyNetwork()\n",
    "model.load_weights(\"Weights/model\")"
   ]
  },
  {
   "cell_type": "code",
   "execution_count": 3,
   "metadata": {},
   "outputs": [],
   "source": [
    "def play(env):\n",
    "    obs = env.reset()\n",
    "    done = False\n",
    "    while not done:\n",
    "        imgs, vals = obs\n",
    "        imgs = imgs.reshape(-1, 256, 256, 3)\n",
    "        vals = vals.reshape(-1, 1)\n",
    "        a = model.predict([imgs, vals]).reshape(-1)\n",
    "        obs, rewards,  done , info = env.step(a)\n",
    "    env.close()\n"
   ]
  },
  {
   "cell_type": "code",
   "execution_count": 4,
   "metadata": {},
   "outputs": [],
   "source": [
    "from gym_unity.envs import UnityToGymWrapper\n",
    "from mlagents_envs.environment import UnityEnvironment"
   ]
  },
  {
   "cell_type": "code",
   "execution_count": 6,
   "metadata": {},
   "outputs": [
    {
     "output_type": "stream",
     "name": "stderr",
     "text": [
      "2021-06-30 11:59:07 INFO [environment.py:111] Connected to Unity environment with package version 2.0.0-exp.1 and communication version 1.5.0\n",
      "2021-06-30 11:59:07 INFO [environment.py:271] Connected new brain:\n",
      "CarAgent?team=0\n",
      "D:\\users\\Aakarshan\\miniconda3\\envs\\tfgpu\\lib\\site-packages\\gym\\logger.py:30: UserWarning: \u001b[33mWARN: Box bound precision lowered by casting to float32\u001b[0m\n",
      "  warnings.warn(colorize('%s: %s'%('WARN', msg % args), 'yellow'))\n"
     ]
    }
   ],
   "source": [
    "path = r\"D:\\My C and Python Projects\\2021\\UnityStuff\\ImitationLearning\\InferenceMode\"\n",
    "gameEnv = UnityToGymWrapper(UnityEnvironment(path), allow_multiple_obs=True)"
   ]
  },
  {
   "cell_type": "code",
   "execution_count": 7,
   "metadata": {},
   "outputs": [
    {
     "output_type": "stream",
     "name": "stdout",
     "text": [
      "WARNING:tensorflow:AutoGraph could not transform <function Model.make_predict_function.<locals>.predict_function at 0x0000020843D3B3A8> and will run it as-is.\n",
      "Please report this to the TensorFlow team. When filing the bug, set the verbosity to 10 (on Linux, `export AUTOGRAPH_VERBOSITY=10`) and attach the full output.\n",
      "Cause: 'arguments' object has no attribute 'posonlyargs'\n",
      "To silence this warning, decorate the function with @tf.autograph.experimental.do_not_convert\n",
      "2021-06-30 11:59:18 WARNING [ag_logging.py:146] AutoGraph could not transform <function Model.make_predict_function.<locals>.predict_function at 0x0000020843D3B3A8> and will run it as-is.\n",
      "Please report this to the TensorFlow team. When filing the bug, set the verbosity to 10 (on Linux, `export AUTOGRAPH_VERBOSITY=10`) and attach the full output.\n",
      "Cause: 'arguments' object has no attribute 'posonlyargs'\n",
      "To silence this warning, decorate the function with @tf.autograph.experimental.do_not_convert\n",
      "WARNING: AutoGraph could not transform <function Model.make_predict_function.<locals>.predict_function at 0x0000020843D3B3A8> and will run it as-is.\n",
      "Please report this to the TensorFlow team. When filing the bug, set the verbosity to 10 (on Linux, `export AUTOGRAPH_VERBOSITY=10`) and attach the full output.\n",
      "Cause: 'arguments' object has no attribute 'posonlyargs'\n",
      "To silence this warning, decorate the function with @tf.autograph.experimental.do_not_convert\n",
      "WARNING:tensorflow:AutoGraph could not transform <bound method PolicyNetwork.call of <__main__.PolicyNetwork object at 0x0000020827FC49C8>> and will run it as-is.\n",
      "Please report this to the TensorFlow team. When filing the bug, set the verbosity to 10 (on Linux, `export AUTOGRAPH_VERBOSITY=10`) and attach the full output.\n",
      "Cause: 'arguments' object has no attribute 'posonlyargs'\n",
      "To silence this warning, decorate the function with @tf.autograph.experimental.do_not_convert\n",
      "2021-06-30 11:59:18 WARNING [ag_logging.py:146] AutoGraph could not transform <bound method PolicyNetwork.call of <__main__.PolicyNetwork object at 0x0000020827FC49C8>> and will run it as-is.\n",
      "Please report this to the TensorFlow team. When filing the bug, set the verbosity to 10 (on Linux, `export AUTOGRAPH_VERBOSITY=10`) and attach the full output.\n",
      "Cause: 'arguments' object has no attribute 'posonlyargs'\n",
      "To silence this warning, decorate the function with @tf.autograph.experimental.do_not_convert\n",
      "WARNING: AutoGraph could not transform <bound method PolicyNetwork.call of <__main__.PolicyNetwork object at 0x0000020827FC49C8>> and will run it as-is.\n",
      "Please report this to the TensorFlow team. When filing the bug, set the verbosity to 10 (on Linux, `export AUTOGRAPH_VERBOSITY=10`) and attach the full output.\n",
      "Cause: 'arguments' object has no attribute 'posonlyargs'\n",
      "To silence this warning, decorate the function with @tf.autograph.experimental.do_not_convert\n",
      "2021-06-30 11:59:54 INFO [environment.py:407] Environment shut down with return code 0 (CTRL_C_EVENT).\n"
     ]
    }
   ],
   "source": [
    "play(gameEnv)"
   ]
  },
  {
   "cell_type": "code",
   "execution_count": null,
   "metadata": {},
   "outputs": [],
   "source": []
  }
 ]
}